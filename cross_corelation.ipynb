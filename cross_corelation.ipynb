{
 "cells": [
  {
   "cell_type": "markdown",
   "metadata": {},
   "source": [
    "# Setup"
   ]
  },
  {
   "cell_type": "code",
   "execution_count": 1,
   "metadata": {},
   "outputs": [],
   "source": [
    "import numpy as np\n",
    "import librosa\n",
    "import librosa.display\n",
    "import matplotlib.pyplot as plt\n",
    "import time\n",
    "import os\n",
    "import pandas as pd\n",
    "from datetime import datetime\n",
    "import noisereduce as nr\n",
    "import soundfile as sf\n",
    "from scipy.io import wavfile\n",
    "from scipy.io.wavfile import write\n",
    "import scipy.signal as signal\n",
    "import scipy.io.wavfile as wav\n",
    "from IPython.display import Audio\n",
    "import pickle"
   ]
  },
  {
   "cell_type": "code",
   "execution_count": 2,
   "metadata": {},
   "outputs": [],
   "source": [
    "# Original template signal\n",
    "template = np.loadtxt('segment_675_5_676_5.txt', dtype=float)\n",
    "threshold=  2136680017016288.0  \n",
    "output_peak= (1.641123594783742e+16+0.7038197438483377j)"
   ]
  },
  {
   "cell_type": "code",
   "execution_count": 3,
   "metadata": {},
   "outputs": [],
   "source": [
    "\n",
    "# Path to the .pkl file\n",
    "file_path = r\"C:\\Users\\dror.e\\Documents\\y_reduced_noise_301024_noon.pkl\"\n",
    "\n",
    "# Load the .pkl file\n",
    "with open(file_path, 'rb') as file:\n",
    "    y_reduced_noise = pickle.load(file)"
   ]
  },
  {
   "cell_type": "code",
   "execution_count": 4,
   "metadata": {},
   "outputs": [],
   "source": [
    "signal_array = y_reduced_noise['y_reduced_noise_1']"
   ]
  },
  {
   "cell_type": "code",
   "execution_count": 5,
   "metadata": {},
   "outputs": [
    {
     "name": "stdout",
     "output_type": "stream",
     "text": [
      "Output Peak: 4.4638266359344936e+16\n",
      "Peak Index: 29157315\n"
     ]
    }
   ],
   "source": [
    "# Cross-correlation\n",
    "cross_correlation = np.correlate(signal_array, template, mode='full')\n",
    "\n",
    "# Find the peak of the cross-correlation\n",
    "peak_index = np.argmax(np.abs(cross_correlation))\n",
    "peak_value = cross_correlation[peak_index]\n",
    "\n",
    "print(\"Output Peak:\", peak_value)\n",
    "print(\"Peak Index:\", peak_index)"
   ]
  },
  {
   "cell_type": "markdown",
   "metadata": {},
   "source": [
    "# On the eating time"
   ]
  },
  {
   "cell_type": "code",
   "execution_count": 22,
   "metadata": {},
   "outputs": [],
   "source": [
    "def to_min(min):\n",
    "    return int(float(48000*60*min))"
   ]
  },
  {
   "cell_type": "code",
   "execution_count": 33,
   "metadata": {},
   "outputs": [],
   "source": [
    "eating_time = y_reduced_noise['y_reduced_noise_1'][to_min(0):to_min(40)]"
   ]
  },
  {
   "cell_type": "code",
   "execution_count": 129,
   "metadata": {},
   "outputs": [],
   "source": [
    "import datetime\n",
    "\n",
    "# Cross-correlation\n",
    "cross_correlation = np.correlate(eating_time, template, mode='full')\n",
    "\n",
    "# Find the peak of the cross-correlation\n",
    "peak_index = np.argmax(np.abs(cross_correlation))\n",
    "peak_value = cross_correlation[peak_index]\n",
    "\n",
    "# Threshold value\n",
    "threshold = 2136680017016288.0  "
   ]
  },
  {
   "cell_type": "code",
   "execution_count": null,
   "metadata": {},
   "outputs": [],
   "source": [
    "# Generate time values for the x-axis\n",
    "sampling_rate = 48000  # points per second\n",
    "start_time = datetime.datetime.strptime(\"08:25\", \"%H:%M\")\n",
    "\n",
    "# Spesific min\n",
    "eating_time = eating_time[to_min(2):to_min(9)]\n",
    "cross_correlation_min = cross_correlation[to_min(2):to_min(9)]\n",
    "\n",
    "# Calculate the total duration in minutes\n",
    "total_minutes = len(eating_time) / (sampling_rate * 60)\n",
    "\n",
    "# Generate minute-based labels\n",
    "minute_labels = [\n",
    "    (start_time + datetime.timedelta(minutes=i)).strftime(\"%H:%M\")\n",
    "    for i in range(int(total_minutes) + 1)\n",
    "]\n",
    "minute_indices = np.arange(0, len(eating_time), sampling_rate * 60)  # One tick per minute\n",
    "\n",
    "# Ensure matching lengths\n",
    "minute_labels = minute_labels[:len(minute_indices)]\n",
    "\n",
    "# Print results\n",
    "print(\"Threshold:\", threshold)\n",
    "print(\"Output Peak:\", peak_value)\n",
    "print(\"Peak Index:\", peak_index)\n",
    "\n",
    "# Plot signal_array, template, and cross-correlation\n",
    "plt.figure(figsize=(12, 8))\n",
    "\n",
    "# Plot signal_array\n",
    "plt.subplot(3, 1, 1)\n",
    "plt.plot(eating_time, label=\"signal_array\")\n",
    "# Set x-axis ticks\n",
    "plt.xticks(ticks=minute_indices, labels=minute_labels, rotation=45)\n",
    "plt.title(\"signal_array\")\n",
    "plt.xlabel(\"Index\")\n",
    "plt.ylabel(\"Amplitude\")\n",
    "plt.legend()\n",
    "\n",
    "# Plot template\n",
    "plt.subplot(3, 1, 2)\n",
    "plt.plot(template, label=\"Template\")\n",
    "plt.title(\"Template\")\n",
    "plt.xlabel(\"Index\")\n",
    "plt.ylabel(\"Amplitude\")\n",
    "plt.legend()\n",
    "\n",
    "# Plot cross-correlation\n",
    "plt.subplot(3, 1, 3)\n",
    "plt.plot(cross_correlation_min, label=\"Cross-Correlation\")\n",
    "# Set x-axis ticks\n",
    "plt.xticks(ticks=minute_indices, labels=minute_labels, rotation=45)\n",
    "plt.axhline(y=threshold, color='r', linestyle='--', label=\"Threshold\")\n",
    "plt.title(\"Cross-Correlation\")\n",
    "plt.xlabel(\"Lag\")\n",
    "plt.ylabel(\"Amplitude\")\n",
    "plt.legend()\n",
    "\n",
    "plt.tight_layout()\n",
    "plt.show()\n"
   ]
  },
  {
   "cell_type": "markdown",
   "metadata": {},
   "source": [
    "# Inside the 1 min of eating"
   ]
  },
  {
   "cell_type": "code",
   "execution_count": 11,
   "metadata": {},
   "outputs": [],
   "source": [
    "def to_min(min):\n",
    "    return int(float(48000*60*min))"
   ]
  },
  {
   "cell_type": "code",
   "execution_count": 12,
   "metadata": {},
   "outputs": [],
   "source": [
    "while_1_min_eating = y_reduced_noise['y_reduced_noise_1'][to_min(5):to_min(15)]"
   ]
  },
  {
   "cell_type": "code",
   "execution_count": null,
   "metadata": {},
   "outputs": [],
   "source": [
    "# Cross-correlation\n",
    "cross_correlation = np.correlate(while_1_min_eating, template, mode='full')\n",
    "\n",
    "# Find the peak of the cross-correlation\n",
    "#peak_index = np.argmax(np.abs(cross_correlation))\n",
    "#peak_value = cross_correlation[peak_index]\n",
    "\n",
    "# Threshold value\n",
    "threshold = 2136680017016288.0  \n",
    "\n",
    "# Print results\n",
    "print(\"Threshold:\", threshold)\n",
    "#print(\"Output Peak:\", peak_value)\n",
    "#print(\"Peak Index:\", peak_index)\n",
    "\n",
    "# Plot signal_array, template, and cross-correlation\n",
    "plt.figure(figsize=(12, 8))\n",
    "\n",
    "# Plot signal_array\n",
    "plt.subplot(3, 1, 1)\n",
    "plt.plot(while_1_min_eating, label=\"signal_array\")\n",
    "plt.title(\"signal_array\")\n",
    "plt.xlabel(\"Index\")\n",
    "plt.ylabel(\"Amplitude\")\n",
    "plt.legend()\n",
    "\n",
    "# Plot template\n",
    "plt.subplot(3, 1, 2)\n",
    "plt.plot(template, label=\"Template\")\n",
    "plt.title(\"Template\")\n",
    "plt.xlabel(\"Index\")\n",
    "plt.ylabel(\"Amplitude\")\n",
    "plt.legend()\n",
    "\n",
    "# Plot cross-correlation\n",
    "plt.subplot(3, 1, 3)\n",
    "plt.plot(cross_correlation, label=\"Cross-Correlation\")\n",
    "plt.axhline(y=threshold, color='r', linestyle='--', label=\"Threshold\")\n",
    "plt.title(\"Cross-Correlation\")\n",
    "plt.xlabel(\"Lag\")\n",
    "plt.ylabel(\"Amplitude\")\n",
    "plt.legend()\n",
    "\n",
    "plt.tight_layout()\n",
    "plt.show()\n"
   ]
  }
 ],
 "metadata": {
  "kernelspec": {
   "display_name": "Python 3",
   "language": "python",
   "name": "python3"
  },
  "language_info": {
   "codemirror_mode": {
    "name": "ipython",
    "version": 3
   },
   "file_extension": ".py",
   "mimetype": "text/x-python",
   "name": "python",
   "nbconvert_exporter": "python",
   "pygments_lexer": "ipython3",
   "version": "3.12.7"
  }
 },
 "nbformat": 4,
 "nbformat_minor": 2
}
